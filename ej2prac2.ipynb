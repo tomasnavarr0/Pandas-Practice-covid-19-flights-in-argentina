{
  "nbformat": 4,
  "nbformat_minor": 0,
  "metadata": {
    "colab": {
      "provenance": []
    },
    "kernelspec": {
      "name": "python3",
      "display_name": "Python 3"
    },
    "language_info": {
      "name": "python"
    }
  },
  "cells": [
    {
      "cell_type": "code",
      "execution_count": 1,
      "metadata": {
        "id": "wNSFaXKxvbDx"
      },
      "outputs": [],
      "source": [
        "import pandas as pd\n",
        "import matplotlib.pyplot as plt"
      ]
    },
    {
      "cell_type": "markdown",
      "source": [
        "Cargamos el archivo y usamos pandas para abrirlo. Lo primero que vamos a hacer es prepararlo para usar."
      ],
      "metadata": {
        "id": "hQYYoARFwgxu"
      }
    },
    {
      "cell_type": "code",
      "source": [
        "datos=pd.read_excel(\"/content/flete-aereo-vacunas-covid19-al-2021-06-28.xlsx\")"
      ],
      "metadata": {
        "id": "2NtC-AjUvuAR"
      },
      "execution_count": 2,
      "outputs": []
    },
    {
      "cell_type": "code",
      "source": [
        "data = datos.drop(datos.index[0:4])\n",
        "new_header=datos.iloc[3]\n",
        "data.columns=new_header"
      ],
      "metadata": {
        "id": "uNgQ0OJ3wkO1"
      },
      "execution_count": 3,
      "outputs": []
    },
    {
      "cell_type": "code",
      "source": [
        "df=data.drop(data.index[70:])"
      ],
      "metadata": {
        "id": "-Ng-75Xu4J48"
      },
      "execution_count": 4,
      "outputs": []
    },
    {
      "cell_type": "code",
      "source": [
        "df.rename(columns={\"vuelo \": \"nro_vuelo\"}, inplace=True)"
      ],
      "metadata": {
        "id": "VWlKg6N95mdN"
      },
      "execution_count": 5,
      "outputs": []
    },
    {
      "cell_type": "code",
      "source": [
        "df"
      ],
      "metadata": {
        "colab": {
          "base_uri": "https://localhost:8080/",
          "height": 800
        },
        "id": "k6t9MvK03qzI",
        "outputId": "eadb877c-cc02-40e7-f12a-e7f973a1ae9d"
      },
      "execution_count": 6,
      "outputs": [
        {
          "output_type": "execute_result",
          "data": {
            "text/plain": [
              "3                          organismo                    expediente  \\\n",
              "4   Ministerio de Salud de la Nación  EX-2020-91578184- -APN-DD#MS   \n",
              "5   Ministerio de Salud de la Nación  EX-2020-91578184- -APN-DD#MS   \n",
              "6   Ministerio de Salud de la Nación  EX-2021-04601170- -APN-DD#MS   \n",
              "7   Ministerio de Salud de la Nación  EX-2021-08460702- -APN-DD#MS   \n",
              "8   Ministerio de Salud de la Nación  EX-2021-13211127- -APN-DD#MS   \n",
              "..                               ...                           ...   \n",
              "69  Ministerio de Salud de la Nación  EX-2021-56849335- -APN-DD#MS   \n",
              "70                               NaN                           NaN   \n",
              "71                               NaN                           NaN   \n",
              "72                               NaN                           NaN   \n",
              "73                               NaN                           NaN   \n",
              "\n",
              "3             financiamiento               acto_conclusión  descripción  \\\n",
              "4   Fuente Financiamiento 11  DI-2021-16691129-APN-SSGA#MS  Flete aéreo   \n",
              "5   Fuente Financiamiento 11  DI-2021-16691129-APN-SSGA#MS  Flete aéreo   \n",
              "6   Fuente Financiamiento 11  DI-2021-24666588-APN-SSGA#MS  Flete aéreo   \n",
              "7   Fuente Financiamiento 11  DI-2021-24639513-APN-SSGA#MS  Flete aéreo   \n",
              "8   Fuente Financiamiento 11  DI-2021-24642675-APN-SSGA#MS  Flete aéreo   \n",
              "..                       ...                           ...          ...   \n",
              "69  Fuente Financiamiento 13        sin acto de conclusión  Flete aéreo   \n",
              "70                       NaN                           NaN          NaN   \n",
              "71                       NaN                           NaN          NaN   \n",
              "72                       NaN                           NaN          NaN   \n",
              "73                       NaN                           NaN          NaN   \n",
              "\n",
              "3                    prestador           CUIT    estado    factura_nro  \\\n",
              "4   Aerolíneas Argentinas S.A.  30-64140555-4  Cumplido  0411-00011116   \n",
              "5   Aerolíneas Argentinas S.A.  30-64140555-4  Cumplido  0411-00011116   \n",
              "6   Aerolíneas Argentinas S.A.  30-64140555-4  Cumplido  0411-00011206   \n",
              "7   Aerolíneas Argentinas S.A.  30-64140555-4  Cumplido  0411-00011296   \n",
              "8   Aerolíneas Argentinas S.A.  30-64140555-4  Cumplido  0411-00011370   \n",
              "..                         ...            ...       ...            ...   \n",
              "69  Aerolíneas Argentinas S.A.  30-64140555-4  Cumplido  0411-00011904   \n",
              "70                         NaN            NaN       NaN            NaN   \n",
              "71                         NaN            NaN       NaN            NaN   \n",
              "72                         NaN            NaN       NaN            NaN   \n",
              "73                         NaN            NaN       NaN            NaN   \n",
              "\n",
              "3  factura_moneda_monto      guía_nro guía_moneda_monto           fecha_guía  \\\n",
              "4        USD 305.250,00  044-44032951        USD 679,84  2020-12-23 00:00:00   \n",
              "5        USD 302.250,00  044-44032940    USD 304.570,16  2020-12-23 00:00:00   \n",
              "6        USD 302.250,00  044-44032973    USD 302.250,00  2021-01-15 00:00:00   \n",
              "7                   NaN  044-44032984    USD 268.655,94  2021-01-29 00:00:00   \n",
              "8        USD 303.075,00  044-44032995    USD 303.075,00  2021-02-11 00:00:00   \n",
              "..                  ...           ...               ...                  ...   \n",
              "69          USD 428.000  044-44033275       USD 428.000  2021-06-22 00:00:00   \n",
              "70                  NaN           NaN               NaN                  NaN   \n",
              "71                  NaN           NaN               NaN                  NaN   \n",
              "72                  NaN           NaN               NaN                  NaN   \n",
              "73                  NaN           NaN               NaN                  NaN   \n",
              "\n",
              "3  nro_vuelo            bienes_transportados  \\\n",
              "4       1061                         marking   \n",
              "5       1061         vaccine pharmaceuticals   \n",
              "6       1061         vaccine pharmaceuticals   \n",
              "7       1063         vaccine pharmaceuticals   \n",
              "8       1065         vaccine pharmaceuticals   \n",
              "..       ...                             ...   \n",
              "69      1067  sars-cov-2 vaccine (vero cell)   \n",
              "70       NaN                             NaN   \n",
              "71       NaN                             NaN   \n",
              "72       NaN                             NaN   \n",
              "73       NaN                             NaN   \n",
              "\n",
              "3                 proveedor_bienes_transportados    operación  \\\n",
              "4                              Biointegrator LLC  Adquisición   \n",
              "5                              Human Vaccine LLC  Adquisición   \n",
              "6                              Human Vaccine LLC  Adquisición   \n",
              "7                              Human Vaccine LLC  Adquisición   \n",
              "8                              Human Vaccine LLC  Adquisición   \n",
              "..                                           ...          ...   \n",
              "69  Beijin Institute of Biological Phroducts co.  Adquisición   \n",
              "70                                           NaN          NaN   \n",
              "71                                           NaN          NaN   \n",
              "72                                           NaN          NaN   \n",
              "73                                           NaN          NaN   \n",
              "\n",
              "3                 comprador_donante origen  \n",
              "4   Secretaría de Acceso a la Salud  Rusia  \n",
              "5   Secretaría de Acceso a la Salud  Rusia  \n",
              "6   Secretaría de Acceso a la Salud  Rusia  \n",
              "7   Secretaría de Acceso a la Salud  Rusia  \n",
              "8   Secretaría de Acceso a la Salud  Rusia  \n",
              "..                              ...    ...  \n",
              "69  Secretaría de Acceso a la Salud  China  \n",
              "70                              NaN    NaN  \n",
              "71                              NaN    NaN  \n",
              "72                              NaN    NaN  \n",
              "73                              NaN    NaN  \n",
              "\n",
              "[70 rows x 19 columns]"
            ],
            "text/html": [
              "\n",
              "  <div id=\"df-ac6c6d53-f753-4cef-b080-2e28f4877161\">\n",
              "    <div class=\"colab-df-container\">\n",
              "      <div>\n",
              "<style scoped>\n",
              "    .dataframe tbody tr th:only-of-type {\n",
              "        vertical-align: middle;\n",
              "    }\n",
              "\n",
              "    .dataframe tbody tr th {\n",
              "        vertical-align: top;\n",
              "    }\n",
              "\n",
              "    .dataframe thead th {\n",
              "        text-align: right;\n",
              "    }\n",
              "</style>\n",
              "<table border=\"1\" class=\"dataframe\">\n",
              "  <thead>\n",
              "    <tr style=\"text-align: right;\">\n",
              "      <th>3</th>\n",
              "      <th>organismo</th>\n",
              "      <th>expediente</th>\n",
              "      <th>financiamiento</th>\n",
              "      <th>acto_conclusión</th>\n",
              "      <th>descripción</th>\n",
              "      <th>prestador</th>\n",
              "      <th>CUIT</th>\n",
              "      <th>estado</th>\n",
              "      <th>factura_nro</th>\n",
              "      <th>factura_moneda_monto</th>\n",
              "      <th>guía_nro</th>\n",
              "      <th>guía_moneda_monto</th>\n",
              "      <th>fecha_guía</th>\n",
              "      <th>nro_vuelo</th>\n",
              "      <th>bienes_transportados</th>\n",
              "      <th>proveedor_bienes_transportados</th>\n",
              "      <th>operación</th>\n",
              "      <th>comprador_donante</th>\n",
              "      <th>origen</th>\n",
              "    </tr>\n",
              "  </thead>\n",
              "  <tbody>\n",
              "    <tr>\n",
              "      <th>4</th>\n",
              "      <td>Ministerio de Salud de la Nación</td>\n",
              "      <td>EX-2020-91578184- -APN-DD#MS</td>\n",
              "      <td>Fuente Financiamiento 11</td>\n",
              "      <td>DI-2021-16691129-APN-SSGA#MS</td>\n",
              "      <td>Flete aéreo</td>\n",
              "      <td>Aerolíneas Argentinas S.A.</td>\n",
              "      <td>30-64140555-4</td>\n",
              "      <td>Cumplido</td>\n",
              "      <td>0411-00011116</td>\n",
              "      <td>USD 305.250,00</td>\n",
              "      <td>044-44032951</td>\n",
              "      <td>USD 679,84</td>\n",
              "      <td>2020-12-23 00:00:00</td>\n",
              "      <td>1061</td>\n",
              "      <td>marking</td>\n",
              "      <td>Biointegrator LLC</td>\n",
              "      <td>Adquisición</td>\n",
              "      <td>Secretaría de Acceso a la Salud</td>\n",
              "      <td>Rusia</td>\n",
              "    </tr>\n",
              "    <tr>\n",
              "      <th>5</th>\n",
              "      <td>Ministerio de Salud de la Nación</td>\n",
              "      <td>EX-2020-91578184- -APN-DD#MS</td>\n",
              "      <td>Fuente Financiamiento 11</td>\n",
              "      <td>DI-2021-16691129-APN-SSGA#MS</td>\n",
              "      <td>Flete aéreo</td>\n",
              "      <td>Aerolíneas Argentinas S.A.</td>\n",
              "      <td>30-64140555-4</td>\n",
              "      <td>Cumplido</td>\n",
              "      <td>0411-00011116</td>\n",
              "      <td>USD 302.250,00</td>\n",
              "      <td>044-44032940</td>\n",
              "      <td>USD 304.570,16</td>\n",
              "      <td>2020-12-23 00:00:00</td>\n",
              "      <td>1061</td>\n",
              "      <td>vaccine pharmaceuticals</td>\n",
              "      <td>Human Vaccine LLC</td>\n",
              "      <td>Adquisición</td>\n",
              "      <td>Secretaría de Acceso a la Salud</td>\n",
              "      <td>Rusia</td>\n",
              "    </tr>\n",
              "    <tr>\n",
              "      <th>6</th>\n",
              "      <td>Ministerio de Salud de la Nación</td>\n",
              "      <td>EX-2021-04601170- -APN-DD#MS</td>\n",
              "      <td>Fuente Financiamiento 11</td>\n",
              "      <td>DI-2021-24666588-APN-SSGA#MS</td>\n",
              "      <td>Flete aéreo</td>\n",
              "      <td>Aerolíneas Argentinas S.A.</td>\n",
              "      <td>30-64140555-4</td>\n",
              "      <td>Cumplido</td>\n",
              "      <td>0411-00011206</td>\n",
              "      <td>USD 302.250,00</td>\n",
              "      <td>044-44032973</td>\n",
              "      <td>USD 302.250,00</td>\n",
              "      <td>2021-01-15 00:00:00</td>\n",
              "      <td>1061</td>\n",
              "      <td>vaccine pharmaceuticals</td>\n",
              "      <td>Human Vaccine LLC</td>\n",
              "      <td>Adquisición</td>\n",
              "      <td>Secretaría de Acceso a la Salud</td>\n",
              "      <td>Rusia</td>\n",
              "    </tr>\n",
              "    <tr>\n",
              "      <th>7</th>\n",
              "      <td>Ministerio de Salud de la Nación</td>\n",
              "      <td>EX-2021-08460702- -APN-DD#MS</td>\n",
              "      <td>Fuente Financiamiento 11</td>\n",
              "      <td>DI-2021-24639513-APN-SSGA#MS</td>\n",
              "      <td>Flete aéreo</td>\n",
              "      <td>Aerolíneas Argentinas S.A.</td>\n",
              "      <td>30-64140555-4</td>\n",
              "      <td>Cumplido</td>\n",
              "      <td>0411-00011296</td>\n",
              "      <td>NaN</td>\n",
              "      <td>044-44032984</td>\n",
              "      <td>USD 268.655,94</td>\n",
              "      <td>2021-01-29 00:00:00</td>\n",
              "      <td>1063</td>\n",
              "      <td>vaccine pharmaceuticals</td>\n",
              "      <td>Human Vaccine LLC</td>\n",
              "      <td>Adquisición</td>\n",
              "      <td>Secretaría de Acceso a la Salud</td>\n",
              "      <td>Rusia</td>\n",
              "    </tr>\n",
              "    <tr>\n",
              "      <th>8</th>\n",
              "      <td>Ministerio de Salud de la Nación</td>\n",
              "      <td>EX-2021-13211127- -APN-DD#MS</td>\n",
              "      <td>Fuente Financiamiento 11</td>\n",
              "      <td>DI-2021-24642675-APN-SSGA#MS</td>\n",
              "      <td>Flete aéreo</td>\n",
              "      <td>Aerolíneas Argentinas S.A.</td>\n",
              "      <td>30-64140555-4</td>\n",
              "      <td>Cumplido</td>\n",
              "      <td>0411-00011370</td>\n",
              "      <td>USD 303.075,00</td>\n",
              "      <td>044-44032995</td>\n",
              "      <td>USD 303.075,00</td>\n",
              "      <td>2021-02-11 00:00:00</td>\n",
              "      <td>1065</td>\n",
              "      <td>vaccine pharmaceuticals</td>\n",
              "      <td>Human Vaccine LLC</td>\n",
              "      <td>Adquisición</td>\n",
              "      <td>Secretaría de Acceso a la Salud</td>\n",
              "      <td>Rusia</td>\n",
              "    </tr>\n",
              "    <tr>\n",
              "      <th>...</th>\n",
              "      <td>...</td>\n",
              "      <td>...</td>\n",
              "      <td>...</td>\n",
              "      <td>...</td>\n",
              "      <td>...</td>\n",
              "      <td>...</td>\n",
              "      <td>...</td>\n",
              "      <td>...</td>\n",
              "      <td>...</td>\n",
              "      <td>...</td>\n",
              "      <td>...</td>\n",
              "      <td>...</td>\n",
              "      <td>...</td>\n",
              "      <td>...</td>\n",
              "      <td>...</td>\n",
              "      <td>...</td>\n",
              "      <td>...</td>\n",
              "      <td>...</td>\n",
              "      <td>...</td>\n",
              "    </tr>\n",
              "    <tr>\n",
              "      <th>69</th>\n",
              "      <td>Ministerio de Salud de la Nación</td>\n",
              "      <td>EX-2021-56849335- -APN-DD#MS</td>\n",
              "      <td>Fuente Financiamiento 13</td>\n",
              "      <td>sin acto de conclusión</td>\n",
              "      <td>Flete aéreo</td>\n",
              "      <td>Aerolíneas Argentinas S.A.</td>\n",
              "      <td>30-64140555-4</td>\n",
              "      <td>Cumplido</td>\n",
              "      <td>0411-00011904</td>\n",
              "      <td>USD 428.000</td>\n",
              "      <td>044-44033275</td>\n",
              "      <td>USD 428.000</td>\n",
              "      <td>2021-06-22 00:00:00</td>\n",
              "      <td>1067</td>\n",
              "      <td>sars-cov-2 vaccine (vero cell)</td>\n",
              "      <td>Beijin Institute of Biological Phroducts co.</td>\n",
              "      <td>Adquisición</td>\n",
              "      <td>Secretaría de Acceso a la Salud</td>\n",
              "      <td>China</td>\n",
              "    </tr>\n",
              "    <tr>\n",
              "      <th>70</th>\n",
              "      <td>NaN</td>\n",
              "      <td>NaN</td>\n",
              "      <td>NaN</td>\n",
              "      <td>NaN</td>\n",
              "      <td>NaN</td>\n",
              "      <td>NaN</td>\n",
              "      <td>NaN</td>\n",
              "      <td>NaN</td>\n",
              "      <td>NaN</td>\n",
              "      <td>NaN</td>\n",
              "      <td>NaN</td>\n",
              "      <td>NaN</td>\n",
              "      <td>NaN</td>\n",
              "      <td>NaN</td>\n",
              "      <td>NaN</td>\n",
              "      <td>NaN</td>\n",
              "      <td>NaN</td>\n",
              "      <td>NaN</td>\n",
              "      <td>NaN</td>\n",
              "    </tr>\n",
              "    <tr>\n",
              "      <th>71</th>\n",
              "      <td>NaN</td>\n",
              "      <td>NaN</td>\n",
              "      <td>NaN</td>\n",
              "      <td>NaN</td>\n",
              "      <td>NaN</td>\n",
              "      <td>NaN</td>\n",
              "      <td>NaN</td>\n",
              "      <td>NaN</td>\n",
              "      <td>NaN</td>\n",
              "      <td>NaN</td>\n",
              "      <td>NaN</td>\n",
              "      <td>NaN</td>\n",
              "      <td>NaN</td>\n",
              "      <td>NaN</td>\n",
              "      <td>NaN</td>\n",
              "      <td>NaN</td>\n",
              "      <td>NaN</td>\n",
              "      <td>NaN</td>\n",
              "      <td>NaN</td>\n",
              "    </tr>\n",
              "    <tr>\n",
              "      <th>72</th>\n",
              "      <td>NaN</td>\n",
              "      <td>NaN</td>\n",
              "      <td>NaN</td>\n",
              "      <td>NaN</td>\n",
              "      <td>NaN</td>\n",
              "      <td>NaN</td>\n",
              "      <td>NaN</td>\n",
              "      <td>NaN</td>\n",
              "      <td>NaN</td>\n",
              "      <td>NaN</td>\n",
              "      <td>NaN</td>\n",
              "      <td>NaN</td>\n",
              "      <td>NaN</td>\n",
              "      <td>NaN</td>\n",
              "      <td>NaN</td>\n",
              "      <td>NaN</td>\n",
              "      <td>NaN</td>\n",
              "      <td>NaN</td>\n",
              "      <td>NaN</td>\n",
              "    </tr>\n",
              "    <tr>\n",
              "      <th>73</th>\n",
              "      <td>NaN</td>\n",
              "      <td>NaN</td>\n",
              "      <td>NaN</td>\n",
              "      <td>NaN</td>\n",
              "      <td>NaN</td>\n",
              "      <td>NaN</td>\n",
              "      <td>NaN</td>\n",
              "      <td>NaN</td>\n",
              "      <td>NaN</td>\n",
              "      <td>NaN</td>\n",
              "      <td>NaN</td>\n",
              "      <td>NaN</td>\n",
              "      <td>NaN</td>\n",
              "      <td>NaN</td>\n",
              "      <td>NaN</td>\n",
              "      <td>NaN</td>\n",
              "      <td>NaN</td>\n",
              "      <td>NaN</td>\n",
              "      <td>NaN</td>\n",
              "    </tr>\n",
              "  </tbody>\n",
              "</table>\n",
              "<p>70 rows × 19 columns</p>\n",
              "</div>\n",
              "      <button class=\"colab-df-convert\" onclick=\"convertToInteractive('df-ac6c6d53-f753-4cef-b080-2e28f4877161')\"\n",
              "              title=\"Convert this dataframe to an interactive table.\"\n",
              "              style=\"display:none;\">\n",
              "        \n",
              "  <svg xmlns=\"http://www.w3.org/2000/svg\" height=\"24px\"viewBox=\"0 0 24 24\"\n",
              "       width=\"24px\">\n",
              "    <path d=\"M0 0h24v24H0V0z\" fill=\"none\"/>\n",
              "    <path d=\"M18.56 5.44l.94 2.06.94-2.06 2.06-.94-2.06-.94-.94-2.06-.94 2.06-2.06.94zm-11 1L8.5 8.5l.94-2.06 2.06-.94-2.06-.94L8.5 2.5l-.94 2.06-2.06.94zm10 10l.94 2.06.94-2.06 2.06-.94-2.06-.94-.94-2.06-.94 2.06-2.06.94z\"/><path d=\"M17.41 7.96l-1.37-1.37c-.4-.4-.92-.59-1.43-.59-.52 0-1.04.2-1.43.59L10.3 9.45l-7.72 7.72c-.78.78-.78 2.05 0 2.83L4 21.41c.39.39.9.59 1.41.59.51 0 1.02-.2 1.41-.59l7.78-7.78 2.81-2.81c.8-.78.8-2.07 0-2.86zM5.41 20L4 18.59l7.72-7.72 1.47 1.35L5.41 20z\"/>\n",
              "  </svg>\n",
              "      </button>\n",
              "      \n",
              "  <style>\n",
              "    .colab-df-container {\n",
              "      display:flex;\n",
              "      flex-wrap:wrap;\n",
              "      gap: 12px;\n",
              "    }\n",
              "\n",
              "    .colab-df-convert {\n",
              "      background-color: #E8F0FE;\n",
              "      border: none;\n",
              "      border-radius: 50%;\n",
              "      cursor: pointer;\n",
              "      display: none;\n",
              "      fill: #1967D2;\n",
              "      height: 32px;\n",
              "      padding: 0 0 0 0;\n",
              "      width: 32px;\n",
              "    }\n",
              "\n",
              "    .colab-df-convert:hover {\n",
              "      background-color: #E2EBFA;\n",
              "      box-shadow: 0px 1px 2px rgba(60, 64, 67, 0.3), 0px 1px 3px 1px rgba(60, 64, 67, 0.15);\n",
              "      fill: #174EA6;\n",
              "    }\n",
              "\n",
              "    [theme=dark] .colab-df-convert {\n",
              "      background-color: #3B4455;\n",
              "      fill: #D2E3FC;\n",
              "    }\n",
              "\n",
              "    [theme=dark] .colab-df-convert:hover {\n",
              "      background-color: #434B5C;\n",
              "      box-shadow: 0px 1px 3px 1px rgba(0, 0, 0, 0.15);\n",
              "      filter: drop-shadow(0px 1px 2px rgba(0, 0, 0, 0.3));\n",
              "      fill: #FFFFFF;\n",
              "    }\n",
              "  </style>\n",
              "\n",
              "      <script>\n",
              "        const buttonEl =\n",
              "          document.querySelector('#df-ac6c6d53-f753-4cef-b080-2e28f4877161 button.colab-df-convert');\n",
              "        buttonEl.style.display =\n",
              "          google.colab.kernel.accessAllowed ? 'block' : 'none';\n",
              "\n",
              "        async function convertToInteractive(key) {\n",
              "          const element = document.querySelector('#df-ac6c6d53-f753-4cef-b080-2e28f4877161');\n",
              "          const dataTable =\n",
              "            await google.colab.kernel.invokeFunction('convertToInteractive',\n",
              "                                                     [key], {});\n",
              "          if (!dataTable) return;\n",
              "\n",
              "          const docLinkHtml = 'Like what you see? Visit the ' +\n",
              "            '<a target=\"_blank\" href=https://colab.research.google.com/notebooks/data_table.ipynb>data table notebook</a>'\n",
              "            + ' to learn more about interactive tables.';\n",
              "          element.innerHTML = '';\n",
              "          dataTable['output_type'] = 'display_data';\n",
              "          await google.colab.output.renderOutput(dataTable, element);\n",
              "          const docLink = document.createElement('div');\n",
              "          docLink.innerHTML = docLinkHtml;\n",
              "          element.appendChild(docLink);\n",
              "        }\n",
              "      </script>\n",
              "    </div>\n",
              "  </div>\n",
              "  "
            ]
          },
          "metadata": {},
          "execution_count": 6
        }
      ]
    },
    {
      "cell_type": "markdown",
      "source": [
        "a. Calcular el porcentaje de cada vuelo y verificar que la suma de los mismos sea\n",
        "1\n"
      ],
      "metadata": {
        "id": "BiFX1h5Hw1Km"
      }
    },
    {
      "cell_type": "code",
      "source": [
        "vuelo=df[['nro_vuelo','origen']]\n",
        "vuelo"
      ],
      "metadata": {
        "colab": {
          "base_uri": "https://localhost:8080/",
          "height": 424
        },
        "id": "xWPzbNJMzhlg",
        "outputId": "621a4318-070d-4776-b7f4-84c8fee918b7"
      },
      "execution_count": 7,
      "outputs": [
        {
          "output_type": "execute_result",
          "data": {
            "text/plain": [
              "3  nro_vuelo origen\n",
              "4       1061  Rusia\n",
              "5       1061  Rusia\n",
              "6       1061  Rusia\n",
              "7       1063  Rusia\n",
              "8       1065  Rusia\n",
              "..       ...    ...\n",
              "69      1067  China\n",
              "70       NaN    NaN\n",
              "71       NaN    NaN\n",
              "72       NaN    NaN\n",
              "73       NaN    NaN\n",
              "\n",
              "[70 rows x 2 columns]"
            ],
            "text/html": [
              "\n",
              "  <div id=\"df-c553fe43-a193-449f-9627-e48d9946a421\">\n",
              "    <div class=\"colab-df-container\">\n",
              "      <div>\n",
              "<style scoped>\n",
              "    .dataframe tbody tr th:only-of-type {\n",
              "        vertical-align: middle;\n",
              "    }\n",
              "\n",
              "    .dataframe tbody tr th {\n",
              "        vertical-align: top;\n",
              "    }\n",
              "\n",
              "    .dataframe thead th {\n",
              "        text-align: right;\n",
              "    }\n",
              "</style>\n",
              "<table border=\"1\" class=\"dataframe\">\n",
              "  <thead>\n",
              "    <tr style=\"text-align: right;\">\n",
              "      <th>3</th>\n",
              "      <th>nro_vuelo</th>\n",
              "      <th>origen</th>\n",
              "    </tr>\n",
              "  </thead>\n",
              "  <tbody>\n",
              "    <tr>\n",
              "      <th>4</th>\n",
              "      <td>1061</td>\n",
              "      <td>Rusia</td>\n",
              "    </tr>\n",
              "    <tr>\n",
              "      <th>5</th>\n",
              "      <td>1061</td>\n",
              "      <td>Rusia</td>\n",
              "    </tr>\n",
              "    <tr>\n",
              "      <th>6</th>\n",
              "      <td>1061</td>\n",
              "      <td>Rusia</td>\n",
              "    </tr>\n",
              "    <tr>\n",
              "      <th>7</th>\n",
              "      <td>1063</td>\n",
              "      <td>Rusia</td>\n",
              "    </tr>\n",
              "    <tr>\n",
              "      <th>8</th>\n",
              "      <td>1065</td>\n",
              "      <td>Rusia</td>\n",
              "    </tr>\n",
              "    <tr>\n",
              "      <th>...</th>\n",
              "      <td>...</td>\n",
              "      <td>...</td>\n",
              "    </tr>\n",
              "    <tr>\n",
              "      <th>69</th>\n",
              "      <td>1067</td>\n",
              "      <td>China</td>\n",
              "    </tr>\n",
              "    <tr>\n",
              "      <th>70</th>\n",
              "      <td>NaN</td>\n",
              "      <td>NaN</td>\n",
              "    </tr>\n",
              "    <tr>\n",
              "      <th>71</th>\n",
              "      <td>NaN</td>\n",
              "      <td>NaN</td>\n",
              "    </tr>\n",
              "    <tr>\n",
              "      <th>72</th>\n",
              "      <td>NaN</td>\n",
              "      <td>NaN</td>\n",
              "    </tr>\n",
              "    <tr>\n",
              "      <th>73</th>\n",
              "      <td>NaN</td>\n",
              "      <td>NaN</td>\n",
              "    </tr>\n",
              "  </tbody>\n",
              "</table>\n",
              "<p>70 rows × 2 columns</p>\n",
              "</div>\n",
              "      <button class=\"colab-df-convert\" onclick=\"convertToInteractive('df-c553fe43-a193-449f-9627-e48d9946a421')\"\n",
              "              title=\"Convert this dataframe to an interactive table.\"\n",
              "              style=\"display:none;\">\n",
              "        \n",
              "  <svg xmlns=\"http://www.w3.org/2000/svg\" height=\"24px\"viewBox=\"0 0 24 24\"\n",
              "       width=\"24px\">\n",
              "    <path d=\"M0 0h24v24H0V0z\" fill=\"none\"/>\n",
              "    <path d=\"M18.56 5.44l.94 2.06.94-2.06 2.06-.94-2.06-.94-.94-2.06-.94 2.06-2.06.94zm-11 1L8.5 8.5l.94-2.06 2.06-.94-2.06-.94L8.5 2.5l-.94 2.06-2.06.94zm10 10l.94 2.06.94-2.06 2.06-.94-2.06-.94-.94-2.06-.94 2.06-2.06.94z\"/><path d=\"M17.41 7.96l-1.37-1.37c-.4-.4-.92-.59-1.43-.59-.52 0-1.04.2-1.43.59L10.3 9.45l-7.72 7.72c-.78.78-.78 2.05 0 2.83L4 21.41c.39.39.9.59 1.41.59.51 0 1.02-.2 1.41-.59l7.78-7.78 2.81-2.81c.8-.78.8-2.07 0-2.86zM5.41 20L4 18.59l7.72-7.72 1.47 1.35L5.41 20z\"/>\n",
              "  </svg>\n",
              "      </button>\n",
              "      \n",
              "  <style>\n",
              "    .colab-df-container {\n",
              "      display:flex;\n",
              "      flex-wrap:wrap;\n",
              "      gap: 12px;\n",
              "    }\n",
              "\n",
              "    .colab-df-convert {\n",
              "      background-color: #E8F0FE;\n",
              "      border: none;\n",
              "      border-radius: 50%;\n",
              "      cursor: pointer;\n",
              "      display: none;\n",
              "      fill: #1967D2;\n",
              "      height: 32px;\n",
              "      padding: 0 0 0 0;\n",
              "      width: 32px;\n",
              "    }\n",
              "\n",
              "    .colab-df-convert:hover {\n",
              "      background-color: #E2EBFA;\n",
              "      box-shadow: 0px 1px 2px rgba(60, 64, 67, 0.3), 0px 1px 3px 1px rgba(60, 64, 67, 0.15);\n",
              "      fill: #174EA6;\n",
              "    }\n",
              "\n",
              "    [theme=dark] .colab-df-convert {\n",
              "      background-color: #3B4455;\n",
              "      fill: #D2E3FC;\n",
              "    }\n",
              "\n",
              "    [theme=dark] .colab-df-convert:hover {\n",
              "      background-color: #434B5C;\n",
              "      box-shadow: 0px 1px 3px 1px rgba(0, 0, 0, 0.15);\n",
              "      filter: drop-shadow(0px 1px 2px rgba(0, 0, 0, 0.3));\n",
              "      fill: #FFFFFF;\n",
              "    }\n",
              "  </style>\n",
              "\n",
              "      <script>\n",
              "        const buttonEl =\n",
              "          document.querySelector('#df-c553fe43-a193-449f-9627-e48d9946a421 button.colab-df-convert');\n",
              "        buttonEl.style.display =\n",
              "          google.colab.kernel.accessAllowed ? 'block' : 'none';\n",
              "\n",
              "        async function convertToInteractive(key) {\n",
              "          const element = document.querySelector('#df-c553fe43-a193-449f-9627-e48d9946a421');\n",
              "          const dataTable =\n",
              "            await google.colab.kernel.invokeFunction('convertToInteractive',\n",
              "                                                     [key], {});\n",
              "          if (!dataTable) return;\n",
              "\n",
              "          const docLinkHtml = 'Like what you see? Visit the ' +\n",
              "            '<a target=\"_blank\" href=https://colab.research.google.com/notebooks/data_table.ipynb>data table notebook</a>'\n",
              "            + ' to learn more about interactive tables.';\n",
              "          element.innerHTML = '';\n",
              "          dataTable['output_type'] = 'display_data';\n",
              "          await google.colab.output.renderOutput(dataTable, element);\n",
              "          const docLink = document.createElement('div');\n",
              "          docLink.innerHTML = docLinkHtml;\n",
              "          element.appendChild(docLink);\n",
              "        }\n",
              "      </script>\n",
              "    </div>\n",
              "  </div>\n",
              "  "
            ]
          },
          "metadata": {},
          "execution_count": 7
        }
      ]
    },
    {
      "cell_type": "code",
      "source": [
        "cant_vuelos_total=vuelo[\"nro_vuelo\"].count()\n",
        "avion=vuelo.groupby([\"nro_vuelo\"]).count()\n",
        "porcenta=avion/cant_vuelos_total\n",
        "valores=(porcenta*100)"
      ],
      "metadata": {
        "id": "iGWcoerB529l"
      },
      "execution_count": 8,
      "outputs": []
    },
    {
      "cell_type": "code",
      "source": [
        "valores.sum()"
      ],
      "metadata": {
        "colab": {
          "base_uri": "https://localhost:8080/"
        },
        "id": "DILeXX08_Sv9",
        "outputId": "0e66d271-2b84-41b5-93da-7223fd4d4822"
      },
      "execution_count": 9,
      "outputs": [
        {
          "output_type": "execute_result",
          "data": {
            "text/plain": [
              "3\n",
              "origen    100.0\n",
              "dtype: float64"
            ]
          },
          "metadata": {},
          "execution_count": 9
        }
      ]
    },
    {
      "cell_type": "markdown",
      "source": [
        "Vemos que la suma es 100 por lo tanto esta bien realizado"
      ],
      "metadata": {
        "id": "NcRWNclfcxt1"
      }
    },
    {
      "cell_type": "code",
      "source": [
        "valores"
      ],
      "metadata": {
        "colab": {
          "base_uri": "https://localhost:8080/",
          "height": 488
        },
        "id": "acJY_t_mDBJ_",
        "outputId": "7631c8ee-f7d1-4255-d926-490d2e06dab7"
      },
      "execution_count": 10,
      "outputs": [
        {
          "output_type": "execute_result",
          "data": {
            "text/plain": [
              "3                       origen\n",
              "nro_vuelo                     \n",
              "1051                 11.111111\n",
              "1061                 23.809524\n",
              "1063                 19.047619\n",
              "1065                 14.285714\n",
              "1067                  6.349206\n",
              "1069                  4.761905\n",
              "1081                  9.523810\n",
              "1501                  3.174603\n",
              "KL701                 1.587302\n",
              "KL892                 1.587302\n",
              "LH8433                1.587302\n",
              "LH8434                1.587302\n",
              "QR8351/16-QR8155/16   1.587302"
            ],
            "text/html": [
              "\n",
              "  <div id=\"df-0ab2bfb2-fbc9-474d-b7c2-f3565f98dd89\">\n",
              "    <div class=\"colab-df-container\">\n",
              "      <div>\n",
              "<style scoped>\n",
              "    .dataframe tbody tr th:only-of-type {\n",
              "        vertical-align: middle;\n",
              "    }\n",
              "\n",
              "    .dataframe tbody tr th {\n",
              "        vertical-align: top;\n",
              "    }\n",
              "\n",
              "    .dataframe thead th {\n",
              "        text-align: right;\n",
              "    }\n",
              "</style>\n",
              "<table border=\"1\" class=\"dataframe\">\n",
              "  <thead>\n",
              "    <tr style=\"text-align: right;\">\n",
              "      <th>3</th>\n",
              "      <th>origen</th>\n",
              "    </tr>\n",
              "    <tr>\n",
              "      <th>nro_vuelo</th>\n",
              "      <th></th>\n",
              "    </tr>\n",
              "  </thead>\n",
              "  <tbody>\n",
              "    <tr>\n",
              "      <th>1051</th>\n",
              "      <td>11.111111</td>\n",
              "    </tr>\n",
              "    <tr>\n",
              "      <th>1061</th>\n",
              "      <td>23.809524</td>\n",
              "    </tr>\n",
              "    <tr>\n",
              "      <th>1063</th>\n",
              "      <td>19.047619</td>\n",
              "    </tr>\n",
              "    <tr>\n",
              "      <th>1065</th>\n",
              "      <td>14.285714</td>\n",
              "    </tr>\n",
              "    <tr>\n",
              "      <th>1067</th>\n",
              "      <td>6.349206</td>\n",
              "    </tr>\n",
              "    <tr>\n",
              "      <th>1069</th>\n",
              "      <td>4.761905</td>\n",
              "    </tr>\n",
              "    <tr>\n",
              "      <th>1081</th>\n",
              "      <td>9.523810</td>\n",
              "    </tr>\n",
              "    <tr>\n",
              "      <th>1501</th>\n",
              "      <td>3.174603</td>\n",
              "    </tr>\n",
              "    <tr>\n",
              "      <th>KL701</th>\n",
              "      <td>1.587302</td>\n",
              "    </tr>\n",
              "    <tr>\n",
              "      <th>KL892</th>\n",
              "      <td>1.587302</td>\n",
              "    </tr>\n",
              "    <tr>\n",
              "      <th>LH8433</th>\n",
              "      <td>1.587302</td>\n",
              "    </tr>\n",
              "    <tr>\n",
              "      <th>LH8434</th>\n",
              "      <td>1.587302</td>\n",
              "    </tr>\n",
              "    <tr>\n",
              "      <th>QR8351/16-QR8155/16</th>\n",
              "      <td>1.587302</td>\n",
              "    </tr>\n",
              "  </tbody>\n",
              "</table>\n",
              "</div>\n",
              "      <button class=\"colab-df-convert\" onclick=\"convertToInteractive('df-0ab2bfb2-fbc9-474d-b7c2-f3565f98dd89')\"\n",
              "              title=\"Convert this dataframe to an interactive table.\"\n",
              "              style=\"display:none;\">\n",
              "        \n",
              "  <svg xmlns=\"http://www.w3.org/2000/svg\" height=\"24px\"viewBox=\"0 0 24 24\"\n",
              "       width=\"24px\">\n",
              "    <path d=\"M0 0h24v24H0V0z\" fill=\"none\"/>\n",
              "    <path d=\"M18.56 5.44l.94 2.06.94-2.06 2.06-.94-2.06-.94-.94-2.06-.94 2.06-2.06.94zm-11 1L8.5 8.5l.94-2.06 2.06-.94-2.06-.94L8.5 2.5l-.94 2.06-2.06.94zm10 10l.94 2.06.94-2.06 2.06-.94-2.06-.94-.94-2.06-.94 2.06-2.06.94z\"/><path d=\"M17.41 7.96l-1.37-1.37c-.4-.4-.92-.59-1.43-.59-.52 0-1.04.2-1.43.59L10.3 9.45l-7.72 7.72c-.78.78-.78 2.05 0 2.83L4 21.41c.39.39.9.59 1.41.59.51 0 1.02-.2 1.41-.59l7.78-7.78 2.81-2.81c.8-.78.8-2.07 0-2.86zM5.41 20L4 18.59l7.72-7.72 1.47 1.35L5.41 20z\"/>\n",
              "  </svg>\n",
              "      </button>\n",
              "      \n",
              "  <style>\n",
              "    .colab-df-container {\n",
              "      display:flex;\n",
              "      flex-wrap:wrap;\n",
              "      gap: 12px;\n",
              "    }\n",
              "\n",
              "    .colab-df-convert {\n",
              "      background-color: #E8F0FE;\n",
              "      border: none;\n",
              "      border-radius: 50%;\n",
              "      cursor: pointer;\n",
              "      display: none;\n",
              "      fill: #1967D2;\n",
              "      height: 32px;\n",
              "      padding: 0 0 0 0;\n",
              "      width: 32px;\n",
              "    }\n",
              "\n",
              "    .colab-df-convert:hover {\n",
              "      background-color: #E2EBFA;\n",
              "      box-shadow: 0px 1px 2px rgba(60, 64, 67, 0.3), 0px 1px 3px 1px rgba(60, 64, 67, 0.15);\n",
              "      fill: #174EA6;\n",
              "    }\n",
              "\n",
              "    [theme=dark] .colab-df-convert {\n",
              "      background-color: #3B4455;\n",
              "      fill: #D2E3FC;\n",
              "    }\n",
              "\n",
              "    [theme=dark] .colab-df-convert:hover {\n",
              "      background-color: #434B5C;\n",
              "      box-shadow: 0px 1px 3px 1px rgba(0, 0, 0, 0.15);\n",
              "      filter: drop-shadow(0px 1px 2px rgba(0, 0, 0, 0.3));\n",
              "      fill: #FFFFFF;\n",
              "    }\n",
              "  </style>\n",
              "\n",
              "      <script>\n",
              "        const buttonEl =\n",
              "          document.querySelector('#df-0ab2bfb2-fbc9-474d-b7c2-f3565f98dd89 button.colab-df-convert');\n",
              "        buttonEl.style.display =\n",
              "          google.colab.kernel.accessAllowed ? 'block' : 'none';\n",
              "\n",
              "        async function convertToInteractive(key) {\n",
              "          const element = document.querySelector('#df-0ab2bfb2-fbc9-474d-b7c2-f3565f98dd89');\n",
              "          const dataTable =\n",
              "            await google.colab.kernel.invokeFunction('convertToInteractive',\n",
              "                                                     [key], {});\n",
              "          if (!dataTable) return;\n",
              "\n",
              "          const docLinkHtml = 'Like what you see? Visit the ' +\n",
              "            '<a target=\"_blank\" href=https://colab.research.google.com/notebooks/data_table.ipynb>data table notebook</a>'\n",
              "            + ' to learn more about interactive tables.';\n",
              "          element.innerHTML = '';\n",
              "          dataTable['output_type'] = 'display_data';\n",
              "          await google.colab.output.renderOutput(dataTable, element);\n",
              "          const docLink = document.createElement('div');\n",
              "          docLink.innerHTML = docLinkHtml;\n",
              "          element.appendChild(docLink);\n",
              "        }\n",
              "      </script>\n",
              "    </div>\n",
              "  </div>\n",
              "  "
            ]
          },
          "metadata": {},
          "execution_count": 10
        }
      ]
    },
    {
      "cell_type": "markdown",
      "source": [
        "b. Calcular el promedio de lo facturado usando la columna factura_moneda_monto .\n",
        "Realizar un boxplot para con estos datos para entender la distribución de los\n",
        "mismos.\n"
      ],
      "metadata": {
        "id": "1QgFKza0DLsl"
      }
    },
    {
      "cell_type": "code",
      "source": [
        "dinero=df[[\"factura_moneda_monto\"]]\n",
        "monto=dinero[\"factura_moneda_monto\"].str.replace(\"USD\",\"\")"
      ],
      "metadata": {
        "id": "h6iLxrABE3Pn"
      },
      "execution_count": 62,
      "outputs": []
    },
    {
      "cell_type": "code",
      "source": [
        "monto=monto.str.replace(\"EUR\",\"\")\n",
        "monto=monto.str.replace(\",\",\"\")\n",
        "monto=monto.str.replace(\".\",\"\")\n",
        "monto=monto.str.replace(\" \",\"\")\n",
        "monto=monto.fillna(0)\n",
        "monto=monto.astype(int)"
      ],
      "metadata": {
        "colab": {
          "base_uri": "https://localhost:8080/"
        },
        "id": "_XVBBHvOGwYc",
        "outputId": "7fb39855-d53d-4250-e1cc-d4acaf641416"
      },
      "execution_count": 66,
      "outputs": [
        {
          "output_type": "stream",
          "name": "stderr",
          "text": [
            "<ipython-input-66-d7f5c18c957e>:3: FutureWarning: The default value of regex will change from True to False in a future version. In addition, single character regular expressions will *not* be treated as literal strings when regex=True.\n",
            "  monto=monto.str.replace(\".\",\"\")\n"
          ]
        }
      ]
    },
    {
      "cell_type": "code",
      "source": [
        "monto"
      ],
      "metadata": {
        "colab": {
          "base_uri": "https://localhost:8080/"
        },
        "id": "_HqzG2r2Fu6g",
        "outputId": "22db9e52-a57f-4f92-b911-c70ea37e5bcb"
      },
      "execution_count": 67,
      "outputs": [
        {
          "output_type": "execute_result",
          "data": {
            "text/plain": [
              "4     30525000\n",
              "6     30225000\n",
              "7            0\n",
              "8     30307500\n",
              "10    42800000\n",
              "        ...   \n",
              "69      428000\n",
              "70           0\n",
              "71           0\n",
              "72           0\n",
              "73           0\n",
              "Name: factura_moneda_monto, Length: 64, dtype: int64"
            ]
          },
          "metadata": {},
          "execution_count": 67
        }
      ]
    },
    {
      "cell_type": "code",
      "source": [
        "monto.mean()"
      ],
      "metadata": {
        "colab": {
          "base_uri": "https://localhost:8080/"
        },
        "id": "Ep1SsIryJ2Ac",
        "outputId": "143a638c-c72e-4f70-b099-fe45dcf7028a"
      },
      "execution_count": 71,
      "outputs": [
        {
          "output_type": "execute_result",
          "data": {
            "text/plain": [
              "17449100.796875"
            ]
          },
          "metadata": {},
          "execution_count": 71
        }
      ]
    },
    {
      "cell_type": "markdown",
      "source": [
        "El promedio gastado es de: **17.449.100.79** dolares por viaje"
      ],
      "metadata": {
        "id": "mPMr9ZgwjGsT"
      }
    },
    {
      "cell_type": "code",
      "source": [
        "lista_montos=monto.to_list()"
      ],
      "metadata": {
        "id": "z5OMTJm4KMlT"
      },
      "execution_count": 74,
      "outputs": []
    },
    {
      "cell_type": "code",
      "source": [
        "fig, ax = plt.subplots()\n",
        "ax.set_title('Monto de dinero gastado en vacunas covid-19', loc='center', fontdict = {'fontsize':14, 'fontweight':'bold', 'color':'tab:blue'} )\n",
        "ax.set_ylabel('Gastado en millones')\n",
        "ax.boxplot(lista_montos)\n",
        "plt.show()"
      ],
      "metadata": {
        "colab": {
          "base_uri": "https://localhost:8080/",
          "height": 293
        },
        "id": "RpWmlM6xKSCG",
        "outputId": "2cdfa5ef-1739-4b96-adcf-14f56031f4a9"
      },
      "execution_count": 81,
      "outputs": [
        {
          "output_type": "display_data",
          "data": {
            "text/plain": [
              "<Figure size 432x288 with 1 Axes>"
            ],
            "image/png": "[encoded data removed]"
          },
          "metadata": {
            "needs_background": "light"
          }
        }
      ]
    },
    {
      "cell_type": "markdown",
      "source": [
        "c. Informar cuándo fue el último vuelo\n"
      ],
      "metadata": {
        "id": "e9_T2MBJN2dF"
      }
    },
    {
      "cell_type": "code",
      "source": [
        "vuelos=pd.to_datetime(df[\"fecha_guía\"])\n",
        "primer_vuelo=vuelos.min()\n",
        "ultimo_vuelo=vuelos.max()"
      ],
      "metadata": {
        "id": "3_Kt5PGzRQEZ"
      },
      "execution_count": 26,
      "outputs": []
    },
    {
      "cell_type": "markdown",
      "source": [
        "EL ultimo vuelo que se realizo para buscar vacunas de covid-19 fue el **22 de junio de 2021**"
      ],
      "metadata": {
        "id": "38YeNP2CSvC9"
      }
    },
    {
      "cell_type": "markdown",
      "source": [
        "d. Calcular la cantidad de días que pasaron entre el primer y el último vuelo\n"
      ],
      "metadata": {
        "id": "BCrfAt-oTlK8"
      }
    },
    {
      "cell_type": "code",
      "source": [
        "dias_pasaron = (ultimo_vuelo - primer_vuelo).days\n",
        "dias_pasaron"
      ],
      "metadata": {
        "colab": {
          "base_uri": "https://localhost:8080/"
        },
        "id": "SSkTwWE9TmW6",
        "outputId": "01930d8b-c466-4174-8cba-132b15ce421f"
      },
      "execution_count": 27,
      "outputs": [
        {
          "output_type": "execute_result",
          "data": {
            "text/plain": [
              "181"
            ]
          },
          "metadata": {},
          "execution_count": 27
        }
      ]
    },
    {
      "cell_type": "markdown",
      "source": [
        "Desde el primer al ultimo vuelo pasaron **181 dias** de diferencia"
      ],
      "metadata": {
        "id": "PTADO0POUDXv"
      }
    },
    {
      "cell_type": "markdown",
      "source": [
        "c. Pasar a parquet\n"
      ],
      "metadata": {
        "id": "QMjeRxf-VKvH"
      }
    },
    {
      "cell_type": "code",
      "source": [
        "df.to_parquet('/content/flete-aereo-vacunas-covid19-al-2021-06-28.xlsx.parquet')"
      ],
      "metadata": {
        "id": "fC3yY4aDVtXl"
      },
      "execution_count": 61,
      "outputs": []
    }
  ]
}